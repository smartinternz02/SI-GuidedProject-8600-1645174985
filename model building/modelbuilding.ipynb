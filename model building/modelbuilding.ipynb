{
 "cells": [
  {
   "cell_type": "code",
   "execution_count": 1,
   "id": "48974802",
   "metadata": {},
   "outputs": [],
   "source": [
    "import pandas as pd\n",
    "import numpy as np \n",
    "import seaborn as sns \n",
    "import matplotlib.pyplot as plt \n",
    "from sklearn.preprocessing import OneHotEncoder\n",
    "from sklearn.compose import ColumnTransformer \n",
    "from sklearn.model_selection import train_test_split \n",
    "from sklearn.tree import DecisionTreeClassifier \n",
    "import pickle "
   ]
  },
  {
   "cell_type": "code",
   "execution_count": 2,
   "id": "0950f5ad",
   "metadata": {
    "scrolled": true
   },
   "outputs": [
    {
     "data": {
      "text/plain": [
       "(96, 7)"
      ]
     },
     "execution_count": 2,
     "metadata": {},
     "output_type": "execute_result"
    }
   ],
   "source": [
    "data=pd.read_csv(r\"C:\\Project\\dataset\\25.csv\") \n",
    "data.shape"
   ]
  },
  {
   "cell_type": "code",
   "execution_count": 3,
   "id": "02325a1b",
   "metadata": {},
   "outputs": [
    {
     "data": {
      "text/html": [
       "<div>\n",
       "<style scoped>\n",
       "    .dataframe tbody tr th:only-of-type {\n",
       "        vertical-align: middle;\n",
       "    }\n",
       "\n",
       "    .dataframe tbody tr th {\n",
       "        vertical-align: top;\n",
       "    }\n",
       "\n",
       "    .dataframe thead th {\n",
       "        text-align: right;\n",
       "    }\n",
       "</style>\n",
       "<table border=\"1\" class=\"dataframe\">\n",
       "  <thead>\n",
       "    <tr style=\"text-align: right;\">\n",
       "      <th></th>\n",
       "      <th>date</th>\n",
       "      <th>step_count</th>\n",
       "      <th>mood</th>\n",
       "      <th>calories_burned</th>\n",
       "      <th>hours_of_sleep</th>\n",
       "      <th>bool_of_active</th>\n",
       "      <th>weight_kg</th>\n",
       "    </tr>\n",
       "  </thead>\n",
       "  <tbody>\n",
       "    <tr>\n",
       "      <th>0</th>\n",
       "      <td>2017-10-06</td>\n",
       "      <td>5464</td>\n",
       "      <td>200</td>\n",
       "      <td>181</td>\n",
       "      <td>5</td>\n",
       "      <td>0</td>\n",
       "      <td>66</td>\n",
       "    </tr>\n",
       "    <tr>\n",
       "      <th>1</th>\n",
       "      <td>2017-10-07</td>\n",
       "      <td>6041</td>\n",
       "      <td>100</td>\n",
       "      <td>197</td>\n",
       "      <td>8</td>\n",
       "      <td>0</td>\n",
       "      <td>66</td>\n",
       "    </tr>\n",
       "    <tr>\n",
       "      <th>2</th>\n",
       "      <td>2017-10-08</td>\n",
       "      <td>25</td>\n",
       "      <td>100</td>\n",
       "      <td>0</td>\n",
       "      <td>5</td>\n",
       "      <td>0</td>\n",
       "      <td>66</td>\n",
       "    </tr>\n",
       "    <tr>\n",
       "      <th>3</th>\n",
       "      <td>2017-10-09</td>\n",
       "      <td>5461</td>\n",
       "      <td>100</td>\n",
       "      <td>174</td>\n",
       "      <td>4</td>\n",
       "      <td>0</td>\n",
       "      <td>66</td>\n",
       "    </tr>\n",
       "    <tr>\n",
       "      <th>4</th>\n",
       "      <td>2017-10-10</td>\n",
       "      <td>6915</td>\n",
       "      <td>200</td>\n",
       "      <td>223</td>\n",
       "      <td>5</td>\n",
       "      <td>500</td>\n",
       "      <td>66</td>\n",
       "    </tr>\n",
       "    <tr>\n",
       "      <th>5</th>\n",
       "      <td>2017-10-11</td>\n",
       "      <td>4545</td>\n",
       "      <td>100</td>\n",
       "      <td>149</td>\n",
       "      <td>6</td>\n",
       "      <td>0</td>\n",
       "      <td>66</td>\n",
       "    </tr>\n",
       "    <tr>\n",
       "      <th>6</th>\n",
       "      <td>2017-10-12</td>\n",
       "      <td>4340</td>\n",
       "      <td>100</td>\n",
       "      <td>140</td>\n",
       "      <td>6</td>\n",
       "      <td>0</td>\n",
       "      <td>66</td>\n",
       "    </tr>\n",
       "    <tr>\n",
       "      <th>7</th>\n",
       "      <td>2017-10-13</td>\n",
       "      <td>1230</td>\n",
       "      <td>100</td>\n",
       "      <td>38</td>\n",
       "      <td>7</td>\n",
       "      <td>0</td>\n",
       "      <td>66</td>\n",
       "    </tr>\n",
       "  </tbody>\n",
       "</table>\n",
       "</div>"
      ],
      "text/plain": [
       "         date  step_count  mood  calories_burned  hours_of_sleep  \\\n",
       "0  2017-10-06        5464   200              181               5   \n",
       "1  2017-10-07        6041   100              197               8   \n",
       "2  2017-10-08          25   100                0               5   \n",
       "3  2017-10-09        5461   100              174               4   \n",
       "4  2017-10-10        6915   200              223               5   \n",
       "5  2017-10-11        4545   100              149               6   \n",
       "6  2017-10-12        4340   100              140               6   \n",
       "7  2017-10-13        1230   100               38               7   \n",
       "\n",
       "   bool_of_active  weight_kg  \n",
       "0               0         66  \n",
       "1               0         66  \n",
       "2               0         66  \n",
       "3               0         66  \n",
       "4             500         66  \n",
       "5               0         66  \n",
       "6               0         66  \n",
       "7               0         66  "
      ]
     },
     "execution_count": 3,
     "metadata": {},
     "output_type": "execute_result"
    }
   ],
   "source": [
    "data.head(8) "
   ]
  },
  {
   "cell_type": "code",
   "execution_count": 4,
   "id": "fd14d69f",
   "metadata": {},
   "outputs": [
    {
     "data": {
      "text/html": [
       "<div>\n",
       "<style scoped>\n",
       "    .dataframe tbody tr th:only-of-type {\n",
       "        vertical-align: middle;\n",
       "    }\n",
       "\n",
       "    .dataframe tbody tr th {\n",
       "        vertical-align: top;\n",
       "    }\n",
       "\n",
       "    .dataframe thead th {\n",
       "        text-align: right;\n",
       "    }\n",
       "</style>\n",
       "<table border=\"1\" class=\"dataframe\">\n",
       "  <thead>\n",
       "    <tr style=\"text-align: right;\">\n",
       "      <th></th>\n",
       "      <th>date</th>\n",
       "      <th>step_count</th>\n",
       "      <th>mood</th>\n",
       "      <th>calories_burned</th>\n",
       "      <th>hours_of_sleep</th>\n",
       "      <th>bool_of_active</th>\n",
       "      <th>weight_kg</th>\n",
       "    </tr>\n",
       "  </thead>\n",
       "  <tbody>\n",
       "    <tr>\n",
       "      <th>91</th>\n",
       "      <td>2018-01-05</td>\n",
       "      <td>133</td>\n",
       "      <td>100</td>\n",
       "      <td>4</td>\n",
       "      <td>2</td>\n",
       "      <td>0</td>\n",
       "      <td>64</td>\n",
       "    </tr>\n",
       "    <tr>\n",
       "      <th>92</th>\n",
       "      <td>2018-01-06</td>\n",
       "      <td>153</td>\n",
       "      <td>300</td>\n",
       "      <td>0</td>\n",
       "      <td>8</td>\n",
       "      <td>0</td>\n",
       "      <td>64</td>\n",
       "    </tr>\n",
       "    <tr>\n",
       "      <th>93</th>\n",
       "      <td>2018-01-07</td>\n",
       "      <td>500</td>\n",
       "      <td>200</td>\n",
       "      <td>0</td>\n",
       "      <td>5</td>\n",
       "      <td>500</td>\n",
       "      <td>64</td>\n",
       "    </tr>\n",
       "    <tr>\n",
       "      <th>94</th>\n",
       "      <td>2018-01-08</td>\n",
       "      <td>2127</td>\n",
       "      <td>200</td>\n",
       "      <td>0</td>\n",
       "      <td>5</td>\n",
       "      <td>0</td>\n",
       "      <td>64</td>\n",
       "    </tr>\n",
       "    <tr>\n",
       "      <th>95</th>\n",
       "      <td>2018-01-09</td>\n",
       "      <td>2203</td>\n",
       "      <td>300</td>\n",
       "      <td>0</td>\n",
       "      <td>5</td>\n",
       "      <td>500</td>\n",
       "      <td>64</td>\n",
       "    </tr>\n",
       "  </tbody>\n",
       "</table>\n",
       "</div>"
      ],
      "text/plain": [
       "          date  step_count  mood  calories_burned  hours_of_sleep  \\\n",
       "91  2018-01-05         133   100                4               2   \n",
       "92  2018-01-06         153   300                0               8   \n",
       "93  2018-01-07         500   200                0               5   \n",
       "94  2018-01-08        2127   200                0               5   \n",
       "95  2018-01-09        2203   300                0               5   \n",
       "\n",
       "    bool_of_active  weight_kg  \n",
       "91               0         64  \n",
       "92               0         64  \n",
       "93             500         64  \n",
       "94               0         64  \n",
       "95             500         64  "
      ]
     },
     "execution_count": 4,
     "metadata": {},
     "output_type": "execute_result"
    }
   ],
   "source": [
    "data.tail() "
   ]
  },
  {
   "cell_type": "code",
   "execution_count": 5,
   "id": "603eaab1",
   "metadata": {},
   "outputs": [
    {
     "data": {
      "text/plain": [
       "Index(['date', 'step_count', 'mood', 'calories_burned', 'hours_of_sleep',\n",
       "       'bool_of_active', 'weight_kg'],\n",
       "      dtype='object')"
      ]
     },
     "execution_count": 5,
     "metadata": {},
     "output_type": "execute_result"
    }
   ],
   "source": [
    "data.columns "
   ]
  },
  {
   "cell_type": "code",
   "execution_count": 6,
   "id": "d28671dd",
   "metadata": {},
   "outputs": [
    {
     "name": "stdout",
     "output_type": "stream",
     "text": [
      "<class 'pandas.core.frame.DataFrame'>\n",
      "RangeIndex: 96 entries, 0 to 95\n",
      "Data columns (total 7 columns):\n",
      " #   Column           Non-Null Count  Dtype \n",
      "---  ------           --------------  ----- \n",
      " 0   date             96 non-null     object\n",
      " 1   step_count       96 non-null     int64 \n",
      " 2   mood             96 non-null     int64 \n",
      " 3   calories_burned  96 non-null     int64 \n",
      " 4   hours_of_sleep   96 non-null     int64 \n",
      " 5   bool_of_active   96 non-null     int64 \n",
      " 6   weight_kg        96 non-null     int64 \n",
      "dtypes: int64(6), object(1)\n",
      "memory usage: 5.4+ KB\n"
     ]
    }
   ],
   "source": [
    "data.info() "
   ]
  },
  {
   "cell_type": "code",
   "execution_count": 7,
   "id": "af32b8a7",
   "metadata": {},
   "outputs": [
    {
     "data": {
      "text/html": [
       "<div>\n",
       "<style scoped>\n",
       "    .dataframe tbody tr th:only-of-type {\n",
       "        vertical-align: middle;\n",
       "    }\n",
       "\n",
       "    .dataframe tbody tr th {\n",
       "        vertical-align: top;\n",
       "    }\n",
       "\n",
       "    .dataframe thead th {\n",
       "        text-align: right;\n",
       "    }\n",
       "</style>\n",
       "<table border=\"1\" class=\"dataframe\">\n",
       "  <thead>\n",
       "    <tr style=\"text-align: right;\">\n",
       "      <th></th>\n",
       "      <th>step_count</th>\n",
       "      <th>mood</th>\n",
       "      <th>calories_burned</th>\n",
       "      <th>hours_of_sleep</th>\n",
       "      <th>bool_of_active</th>\n",
       "      <th>weight_kg</th>\n",
       "    </tr>\n",
       "  </thead>\n",
       "  <tbody>\n",
       "    <tr>\n",
       "      <th>count</th>\n",
       "      <td>96.000000</td>\n",
       "      <td>96.000000</td>\n",
       "      <td>96.000000</td>\n",
       "      <td>96.00000</td>\n",
       "      <td>96.000000</td>\n",
       "      <td>96.000000</td>\n",
       "    </tr>\n",
       "    <tr>\n",
       "      <th>mean</th>\n",
       "      <td>2935.937500</td>\n",
       "      <td>211.458333</td>\n",
       "      <td>93.447917</td>\n",
       "      <td>5.21875</td>\n",
       "      <td>218.750000</td>\n",
       "      <td>64.281250</td>\n",
       "    </tr>\n",
       "    <tr>\n",
       "      <th>std</th>\n",
       "      <td>2143.384573</td>\n",
       "      <td>84.442184</td>\n",
       "      <td>71.601951</td>\n",
       "      <td>1.51625</td>\n",
       "      <td>249.341237</td>\n",
       "      <td>0.627495</td>\n",
       "    </tr>\n",
       "    <tr>\n",
       "      <th>min</th>\n",
       "      <td>25.000000</td>\n",
       "      <td>100.000000</td>\n",
       "      <td>0.000000</td>\n",
       "      <td>2.00000</td>\n",
       "      <td>0.000000</td>\n",
       "      <td>64.000000</td>\n",
       "    </tr>\n",
       "    <tr>\n",
       "      <th>25%</th>\n",
       "      <td>741.000000</td>\n",
       "      <td>100.000000</td>\n",
       "      <td>21.750000</td>\n",
       "      <td>4.00000</td>\n",
       "      <td>0.000000</td>\n",
       "      <td>64.000000</td>\n",
       "    </tr>\n",
       "    <tr>\n",
       "      <th>50%</th>\n",
       "      <td>2987.500000</td>\n",
       "      <td>200.000000</td>\n",
       "      <td>96.000000</td>\n",
       "      <td>5.00000</td>\n",
       "      <td>0.000000</td>\n",
       "      <td>64.000000</td>\n",
       "    </tr>\n",
       "    <tr>\n",
       "      <th>75%</th>\n",
       "      <td>4546.250000</td>\n",
       "      <td>300.000000</td>\n",
       "      <td>149.250000</td>\n",
       "      <td>6.00000</td>\n",
       "      <td>500.000000</td>\n",
       "      <td>64.000000</td>\n",
       "    </tr>\n",
       "    <tr>\n",
       "      <th>max</th>\n",
       "      <td>7422.000000</td>\n",
       "      <td>300.000000</td>\n",
       "      <td>243.000000</td>\n",
       "      <td>9.00000</td>\n",
       "      <td>500.000000</td>\n",
       "      <td>66.000000</td>\n",
       "    </tr>\n",
       "  </tbody>\n",
       "</table>\n",
       "</div>"
      ],
      "text/plain": [
       "        step_count        mood  calories_burned  hours_of_sleep  \\\n",
       "count    96.000000   96.000000        96.000000        96.00000   \n",
       "mean   2935.937500  211.458333        93.447917         5.21875   \n",
       "std    2143.384573   84.442184        71.601951         1.51625   \n",
       "min      25.000000  100.000000         0.000000         2.00000   \n",
       "25%     741.000000  100.000000        21.750000         4.00000   \n",
       "50%    2987.500000  200.000000        96.000000         5.00000   \n",
       "75%    4546.250000  300.000000       149.250000         6.00000   \n",
       "max    7422.000000  300.000000       243.000000         9.00000   \n",
       "\n",
       "       bool_of_active  weight_kg  \n",
       "count       96.000000  96.000000  \n",
       "mean       218.750000  64.281250  \n",
       "std        249.341237   0.627495  \n",
       "min          0.000000  64.000000  \n",
       "25%          0.000000  64.000000  \n",
       "50%          0.000000  64.000000  \n",
       "75%        500.000000  64.000000  \n",
       "max        500.000000  66.000000  "
      ]
     },
     "execution_count": 7,
     "metadata": {},
     "output_type": "execute_result"
    }
   ],
   "source": [
    "data.describe()"
   ]
  },
  {
   "cell_type": "code",
   "execution_count": 8,
   "id": "942f48b2",
   "metadata": {},
   "outputs": [
    {
     "data": {
      "text/plain": [
       "(array([dtype('int64'), dtype('O')], dtype=object), array([6, 1], dtype=int64))"
      ]
     },
     "execution_count": 8,
     "metadata": {},
     "output_type": "execute_result"
    }
   ],
   "source": [
    "np.unique(data.dtypes,return_counts=True)"
   ]
  },
  {
   "cell_type": "code",
   "execution_count": 9,
   "id": "6a222bc4",
   "metadata": {},
   "outputs": [
    {
     "name": "stdout",
     "output_type": "stream",
     "text": [
      "date\n",
      "['2017-10-06' '2017-10-07' '2017-10-08' '2017-10-09' '2017-10-10'\n",
      " '2017-10-11' '2017-10-12' '2017-10-13' '2017-10-14' '2017-10-15'\n",
      " '2017-10-16' '2017-10-17' '2017-10-18' '2017-10-19' '2017-10-20'\n",
      " '2017-10-21' '2017-10-22' '2017-10-23' '2017-10-24' '2017-10-25'\n",
      " '2017-10-26' '2017-10-27' '2017-10-28' '2017-10-29' '2017-10-30'\n",
      " '2017-10-31' '2017-11-01' '2017-11-02' '2017-11-03' '2017-11-04'\n",
      " '2017-11-05' '2017-11-06' '2017-11-07' '2017-11-08' '2017-11-09'\n",
      " '2017-11-10' '2017-11-11' '2017-11-12' '2017-11-13' '2017-11-14'\n",
      " '2017-11-15' '2017-11-16' '2017-11-17' '2017-11-18' '2017-11-19'\n",
      " '2017-11-20' '2017-11-21' '2017-11-22' '2017-11-23' '2017-11-24'\n",
      " '2017-11-25' '2017-11-26' '2017-11-27' '2017-11-28' '2017-11-29'\n",
      " '2017-11-30' '2017-12-01' '2017-12-02' '2017-12-03' '2017-12-04'\n",
      " '2017-12-05' '2017-12-06' '2017-12-07' '2017-12-08' '2017-12-09'\n",
      " '2017-12-10' '2017-12-11' '2017-12-12' '2017-12-13' '2017-12-14'\n",
      " '2017-12-15' '2017-12-16' '2017-12-17' '2017-12-18' '2017-12-19'\n",
      " '2017-12-20' '2017-12-21' '2017-12-22' '2017-12-23' '2017-12-24'\n",
      " '2017-12-25' '2017-12-26' '2017-12-27' '2017-12-28' '2017-12-29'\n",
      " '2017-12-30' '2017-12-31' '2018-01-01' '2018-01-02' '2018-01-03'\n",
      " '2018-01-04' '2018-01-05' '2018-01-06' '2018-01-07' '2018-01-08'\n",
      " '2018-01-09']\n",
      "xxxxxxxxxxxxxxxxxxxxxxxxxxxxxxxxxxxxxxxxxxxxxxxxxxxxxxxxxxxxxxxxxxxxxxxxxxxxxxxxxxxxxxxxxx\n",
      "step_count\n",
      "[5464 6041   25 5461 6915 4545 4340 1230   61 1258 3148 4687 4732 3519\n",
      " 1580 2822  181 3158 4383 3881 4037  202  292  330 2209 4550 4435 4779\n",
      " 1831 2255  539 4068 4683 4033 6314  614 3149 4005 4880 4136  705  570\n",
      "  269 4275 5999 4421 6930 5195  546  493  995 1163 6676 3608  774 1421\n",
      " 4064 2725 5934 1867 3721 2374 2909 1648  799 7102 3941 7422  437 1231\n",
      " 1696 4921  221 6500 3575 4061  651  753  518 5537 4108 5376 3066  177\n",
      "   36  299 1447 2599  702  133  153  500 2127 2203]\n",
      "xxxxxxxxxxxxxxxxxxxxxxxxxxxxxxxxxxxxxxxxxxxxxxxxxxxxxxxxxxxxxxxxxxxxxxxxxxxxxxxxxxxxxxxxxx\n",
      "mood\n",
      "[200 100 300]\n",
      "xxxxxxxxxxxxxxxxxxxxxxxxxxxxxxxxxxxxxxxxxxxxxxxxxxxxxxxxxxxxxxxxxxxxxxxxxxxxxxxxxxxxxxxxxx\n",
      "calories_burned\n",
      "[181 197   0 174 223 149 140  38   1  40 101 152 150 113  49  86   6  99\n",
      " 143 125 129   9  10  72 141 156  57  17 131 154 137 193  19 139 164  22\n",
      " 145 192 146 234 167  16  32  35 220 116  23  44 194  60 121  76  93  53\n",
      "  25 227 243  14  39  55 158   7 213  21  28 180 138 176   5  47  84   4]\n",
      "xxxxxxxxxxxxxxxxxxxxxxxxxxxxxxxxxxxxxxxxxxxxxxxxxxxxxxxxxxxxxxxxxxxxxxxxxxxxxxxxxxxxxxxxxx\n",
      "hours_of_sleep\n",
      "[5 8 4 6 7 3 2 9]\n",
      "xxxxxxxxxxxxxxxxxxxxxxxxxxxxxxxxxxxxxxxxxxxxxxxxxxxxxxxxxxxxxxxxxxxxxxxxxxxxxxxxxxxxxxxxxx\n",
      "bool_of_active\n",
      "[  0 500]\n",
      "xxxxxxxxxxxxxxxxxxxxxxxxxxxxxxxxxxxxxxxxxxxxxxxxxxxxxxxxxxxxxxxxxxxxxxxxxxxxxxxxxxxxxxxxxx\n",
      "weight_kg\n",
      "[66 65 64]\n",
      "xxxxxxxxxxxxxxxxxxxxxxxxxxxxxxxxxxxxxxxxxxxxxxxxxxxxxxxxxxxxxxxxxxxxxxxxxxxxxxxxxxxxxxxxxx\n"
     ]
    }
   ],
   "source": [
    "def category(data):\n",
    "    for i in data.columns: \n",
    "        print(i)\n",
    "        print(data[i].unique())\n",
    "        print(\"x\"*90)\n",
    "category(data)"
   ]
  },
  {
   "cell_type": "code",
   "execution_count": 10,
   "id": "51e052ca",
   "metadata": {},
   "outputs": [
    {
     "data": {
      "text/plain": [
       "array([  0, 500], dtype=int64)"
      ]
     },
     "execution_count": 10,
     "metadata": {},
     "output_type": "execute_result"
    }
   ],
   "source": [
    "data[\"bool_of_active\"].unique()"
   ]
  },
  {
   "cell_type": "code",
   "execution_count": 11,
   "id": "7eeba2b8",
   "metadata": {},
   "outputs": [
    {
     "data": {
      "text/plain": [
       "array([200, 100, 300], dtype=int64)"
      ]
     },
     "execution_count": 11,
     "metadata": {},
     "output_type": "execute_result"
    }
   ],
   "source": [
    "data[\"mood\"].unique()"
   ]
  },
  {
   "cell_type": "code",
   "execution_count": 12,
   "id": "1676362a",
   "metadata": {},
   "outputs": [
    {
     "data": {
      "text/plain": [
       "array([66, 65, 64], dtype=int64)"
      ]
     },
     "execution_count": 12,
     "metadata": {},
     "output_type": "execute_result"
    }
   ],
   "source": [
    "data['weight_kg'].unique()"
   ]
  },
  {
   "cell_type": "code",
   "execution_count": 13,
   "id": "3674dff8",
   "metadata": {},
   "outputs": [
    {
     "data": {
      "text/plain": [
       "array([5, 8, 4, 6, 7, 3, 2, 9], dtype=int64)"
      ]
     },
     "execution_count": 13,
     "metadata": {},
     "output_type": "execute_result"
    }
   ],
   "source": [
    "data['hours_of_sleep'].unique()"
   ]
  },
  {
   "cell_type": "code",
   "execution_count": 14,
   "id": "eb0e84e7",
   "metadata": {},
   "outputs": [
    {
     "data": {
      "text/html": [
       "<div>\n",
       "<style scoped>\n",
       "    .dataframe tbody tr th:only-of-type {\n",
       "        vertical-align: middle;\n",
       "    }\n",
       "\n",
       "    .dataframe tbody tr th {\n",
       "        vertical-align: top;\n",
       "    }\n",
       "\n",
       "    .dataframe thead th {\n",
       "        text-align: right;\n",
       "    }\n",
       "</style>\n",
       "<table border=\"1\" class=\"dataframe\">\n",
       "  <thead>\n",
       "    <tr style=\"text-align: right;\">\n",
       "      <th></th>\n",
       "      <th>step_count</th>\n",
       "      <th>mood</th>\n",
       "      <th>calories_burned</th>\n",
       "      <th>hours_of_sleep</th>\n",
       "      <th>bool_of_active</th>\n",
       "      <th>weight_kg</th>\n",
       "    </tr>\n",
       "  </thead>\n",
       "  <tbody>\n",
       "    <tr>\n",
       "      <th>step_count</th>\n",
       "      <td>1.000000</td>\n",
       "      <td>0.246738</td>\n",
       "      <td>0.989260</td>\n",
       "      <td>0.080687</td>\n",
       "      <td>0.120212</td>\n",
       "      <td>0.109404</td>\n",
       "    </tr>\n",
       "    <tr>\n",
       "      <th>mood</th>\n",
       "      <td>0.246738</td>\n",
       "      <td>1.000000</td>\n",
       "      <td>0.235044</td>\n",
       "      <td>0.210417</td>\n",
       "      <td>0.379646</td>\n",
       "      <td>-0.458776</td>\n",
       "    </tr>\n",
       "    <tr>\n",
       "      <th>calories_burned</th>\n",
       "      <td>0.989260</td>\n",
       "      <td>0.235044</td>\n",
       "      <td>1.000000</td>\n",
       "      <td>0.080726</td>\n",
       "      <td>0.110900</td>\n",
       "      <td>0.112200</td>\n",
       "    </tr>\n",
       "    <tr>\n",
       "      <th>hours_of_sleep</th>\n",
       "      <td>0.080687</td>\n",
       "      <td>0.210417</td>\n",
       "      <td>0.080726</td>\n",
       "      <td>1.000000</td>\n",
       "      <td>0.136603</td>\n",
       "      <td>0.189118</td>\n",
       "    </tr>\n",
       "    <tr>\n",
       "      <th>bool_of_active</th>\n",
       "      <td>0.120212</td>\n",
       "      <td>0.379646</td>\n",
       "      <td>0.110900</td>\n",
       "      <td>0.136603</td>\n",
       "      <td>1.000000</td>\n",
       "      <td>-0.296443</td>\n",
       "    </tr>\n",
       "    <tr>\n",
       "      <th>weight_kg</th>\n",
       "      <td>0.109404</td>\n",
       "      <td>-0.458776</td>\n",
       "      <td>0.112200</td>\n",
       "      <td>0.189118</td>\n",
       "      <td>-0.296443</td>\n",
       "      <td>1.000000</td>\n",
       "    </tr>\n",
       "  </tbody>\n",
       "</table>\n",
       "</div>"
      ],
      "text/plain": [
       "                 step_count      mood  calories_burned  hours_of_sleep  \\\n",
       "step_count         1.000000  0.246738         0.989260        0.080687   \n",
       "mood               0.246738  1.000000         0.235044        0.210417   \n",
       "calories_burned    0.989260  0.235044         1.000000        0.080726   \n",
       "hours_of_sleep     0.080687  0.210417         0.080726        1.000000   \n",
       "bool_of_active     0.120212  0.379646         0.110900        0.136603   \n",
       "weight_kg          0.109404 -0.458776         0.112200        0.189118   \n",
       "\n",
       "                 bool_of_active  weight_kg  \n",
       "step_count             0.120212   0.109404  \n",
       "mood                   0.379646  -0.458776  \n",
       "calories_burned        0.110900   0.112200  \n",
       "hours_of_sleep         0.136603   0.189118  \n",
       "bool_of_active         1.000000  -0.296443  \n",
       "weight_kg             -0.296443   1.000000  "
      ]
     },
     "execution_count": 14,
     "metadata": {},
     "output_type": "execute_result"
    }
   ],
   "source": [
    "data.corr()"
   ]
  },
  {
   "cell_type": "code",
   "execution_count": 15,
   "id": "e2f09ee6",
   "metadata": {},
   "outputs": [
    {
     "data": {
      "text/plain": [
       "date               False\n",
       "step_count         False\n",
       "mood               False\n",
       "calories_burned    False\n",
       "hours_of_sleep     False\n",
       "bool_of_active     False\n",
       "weight_kg          False\n",
       "dtype: bool"
      ]
     },
     "execution_count": 15,
     "metadata": {},
     "output_type": "execute_result"
    }
   ],
   "source": [
    "data.isnull().any() "
   ]
  },
  {
   "cell_type": "code",
   "execution_count": 16,
   "id": "2b199694",
   "metadata": {},
   "outputs": [
    {
     "data": {
      "text/plain": [
       "date               0\n",
       "step_count         0\n",
       "mood               0\n",
       "calories_burned    0\n",
       "hours_of_sleep     0\n",
       "bool_of_active     0\n",
       "weight_kg          0\n",
       "dtype: int64"
      ]
     },
     "execution_count": 16,
     "metadata": {},
     "output_type": "execute_result"
    }
   ],
   "source": [
    "data.isnull().sum() "
   ]
  },
  {
   "cell_type": "code",
   "execution_count": 17,
   "id": "9d2c7ef0",
   "metadata": {},
   "outputs": [
    {
     "data": {
      "text/plain": [
       "<AxesSubplot:>"
      ]
     },
     "execution_count": 17,
     "metadata": {},
     "output_type": "execute_result"
    },
    {
     "data": {
      "image/png": "[encoded data removed]",
      "text/plain": [
       "<Figure size 432x288 with 1 Axes>"
      ]
     },
     "metadata": {
      "needs_background": "light"
     },
     "output_type": "display_data"
    }
   ],
   "source": [
    "sns.heatmap(data.isnull(),cbar=False)"
   ]
  },
  {
   "cell_type": "code",
   "execution_count": 18,
   "id": "d1c61c00",
   "metadata": {},
   "outputs": [
    {
     "data": {
      "text/html": [
       "<div>\n",
       "<style scoped>\n",
       "    .dataframe tbody tr th:only-of-type {\n",
       "        vertical-align: middle;\n",
       "    }\n",
       "\n",
       "    .dataframe tbody tr th {\n",
       "        vertical-align: top;\n",
       "    }\n",
       "\n",
       "    .dataframe thead th {\n",
       "        text-align: right;\n",
       "    }\n",
       "</style>\n",
       "<table border=\"1\" class=\"dataframe\">\n",
       "  <thead>\n",
       "    <tr style=\"text-align: right;\">\n",
       "      <th></th>\n",
       "      <th>date</th>\n",
       "      <th>step_count</th>\n",
       "      <th>mood</th>\n",
       "      <th>calories_burned</th>\n",
       "      <th>hours_of_sleep</th>\n",
       "      <th>bool_of_active</th>\n",
       "      <th>weight_kg</th>\n",
       "    </tr>\n",
       "  </thead>\n",
       "  <tbody>\n",
       "    <tr>\n",
       "      <th>0</th>\n",
       "      <td>2017-10-06</td>\n",
       "      <td>5464</td>\n",
       "      <td>200</td>\n",
       "      <td>181</td>\n",
       "      <td>5</td>\n",
       "      <td>0</td>\n",
       "      <td>66</td>\n",
       "    </tr>\n",
       "    <tr>\n",
       "      <th>1</th>\n",
       "      <td>2017-10-07</td>\n",
       "      <td>6041</td>\n",
       "      <td>100</td>\n",
       "      <td>197</td>\n",
       "      <td>8</td>\n",
       "      <td>0</td>\n",
       "      <td>66</td>\n",
       "    </tr>\n",
       "    <tr>\n",
       "      <th>2</th>\n",
       "      <td>2017-10-08</td>\n",
       "      <td>25</td>\n",
       "      <td>100</td>\n",
       "      <td>0</td>\n",
       "      <td>5</td>\n",
       "      <td>0</td>\n",
       "      <td>66</td>\n",
       "    </tr>\n",
       "    <tr>\n",
       "      <th>3</th>\n",
       "      <td>2017-10-09</td>\n",
       "      <td>5461</td>\n",
       "      <td>100</td>\n",
       "      <td>174</td>\n",
       "      <td>4</td>\n",
       "      <td>0</td>\n",
       "      <td>66</td>\n",
       "    </tr>\n",
       "    <tr>\n",
       "      <th>4</th>\n",
       "      <td>2017-10-10</td>\n",
       "      <td>6915</td>\n",
       "      <td>200</td>\n",
       "      <td>223</td>\n",
       "      <td>5</td>\n",
       "      <td>1</td>\n",
       "      <td>66</td>\n",
       "    </tr>\n",
       "    <tr>\n",
       "      <th>...</th>\n",
       "      <td>...</td>\n",
       "      <td>...</td>\n",
       "      <td>...</td>\n",
       "      <td>...</td>\n",
       "      <td>...</td>\n",
       "      <td>...</td>\n",
       "      <td>...</td>\n",
       "    </tr>\n",
       "    <tr>\n",
       "      <th>91</th>\n",
       "      <td>2018-01-05</td>\n",
       "      <td>133</td>\n",
       "      <td>100</td>\n",
       "      <td>4</td>\n",
       "      <td>2</td>\n",
       "      <td>0</td>\n",
       "      <td>64</td>\n",
       "    </tr>\n",
       "    <tr>\n",
       "      <th>92</th>\n",
       "      <td>2018-01-06</td>\n",
       "      <td>153</td>\n",
       "      <td>300</td>\n",
       "      <td>0</td>\n",
       "      <td>8</td>\n",
       "      <td>0</td>\n",
       "      <td>64</td>\n",
       "    </tr>\n",
       "    <tr>\n",
       "      <th>93</th>\n",
       "      <td>2018-01-07</td>\n",
       "      <td>500</td>\n",
       "      <td>200</td>\n",
       "      <td>0</td>\n",
       "      <td>5</td>\n",
       "      <td>1</td>\n",
       "      <td>64</td>\n",
       "    </tr>\n",
       "    <tr>\n",
       "      <th>94</th>\n",
       "      <td>2018-01-08</td>\n",
       "      <td>2127</td>\n",
       "      <td>200</td>\n",
       "      <td>0</td>\n",
       "      <td>5</td>\n",
       "      <td>0</td>\n",
       "      <td>64</td>\n",
       "    </tr>\n",
       "    <tr>\n",
       "      <th>95</th>\n",
       "      <td>2018-01-09</td>\n",
       "      <td>2203</td>\n",
       "      <td>300</td>\n",
       "      <td>0</td>\n",
       "      <td>5</td>\n",
       "      <td>1</td>\n",
       "      <td>64</td>\n",
       "    </tr>\n",
       "  </tbody>\n",
       "</table>\n",
       "<p>96 rows × 7 columns</p>\n",
       "</div>"
      ],
      "text/plain": [
       "          date  step_count  mood  calories_burned  hours_of_sleep  \\\n",
       "0   2017-10-06        5464   200              181               5   \n",
       "1   2017-10-07        6041   100              197               8   \n",
       "2   2017-10-08          25   100                0               5   \n",
       "3   2017-10-09        5461   100              174               4   \n",
       "4   2017-10-10        6915   200              223               5   \n",
       "..         ...         ...   ...              ...             ...   \n",
       "91  2018-01-05         133   100                4               2   \n",
       "92  2018-01-06         153   300                0               8   \n",
       "93  2018-01-07         500   200                0               5   \n",
       "94  2018-01-08        2127   200                0               5   \n",
       "95  2018-01-09        2203   300                0               5   \n",
       "\n",
       "    bool_of_active  weight_kg  \n",
       "0                0         66  \n",
       "1                0         66  \n",
       "2                0         66  \n",
       "3                0         66  \n",
       "4                1         66  \n",
       "..             ...        ...  \n",
       "91               0         64  \n",
       "92               0         64  \n",
       "93               1         64  \n",
       "94               0         64  \n",
       "95               1         64  \n",
       "\n",
       "[96 rows x 7 columns]"
      ]
     },
     "execution_count": 18,
     "metadata": {},
     "output_type": "execute_result"
    }
   ],
   "source": [
    "from sklearn.preprocessing import LabelEncoder\n",
    "le=LabelEncoder()\n",
    "data['bool_of_active']=le.fit_transform(data['bool_of_active'])\n",
    "data"
   ]
  },
  {
   "cell_type": "code",
   "execution_count": 19,
   "id": "f30e07ed",
   "metadata": {},
   "outputs": [
    {
     "data": {
      "text/plain": [
       "<AxesSubplot:>"
      ]
     },
     "execution_count": 19,
     "metadata": {},
     "output_type": "execute_result"
    },
    {
     "data": {
      "image/png": "[encoded data removed]",
      "text/plain": [
       "<Figure size 432x288 with 1 Axes>"
      ]
     },
     "metadata": {
      "needs_background": "light"
     },
     "output_type": "display_data"
    }
   ],
   "source": [
    "data['step_count'].hist()"
   ]
  },
  {
   "cell_type": "code",
   "execution_count": 20,
   "id": "f20bd7d0",
   "metadata": {},
   "outputs": [
    {
     "data": {
      "text/plain": [
       "<AxesSubplot:>"
      ]
     },
     "execution_count": 20,
     "metadata": {},
     "output_type": "execute_result"
    },
    {
     "data": {
      "image/png": "[encoded data removed]",
      "text/plain": [
       "<Figure size 432x288 with 1 Axes>"
      ]
     },
     "metadata": {
      "needs_background": "light"
     },
     "output_type": "display_data"
    }
   ],
   "source": [
    "data['weight_kg'].hist()  "
   ]
  },
  {
   "cell_type": "code",
   "execution_count": 21,
   "id": "6345e297",
   "metadata": {},
   "outputs": [
    {
     "data": {
      "text/plain": [
       "<AxesSubplot:>"
      ]
     },
     "execution_count": 21,
     "metadata": {},
     "output_type": "execute_result"
    },
    {
     "data": {
      "image/png": "[encoded data removed]",
      "text/plain": [
       "<Figure size 432x288 with 2 Axes>"
      ]
     },
     "metadata": {
      "needs_background": "light"
     },
     "output_type": "display_data"
    }
   ],
   "source": [
    "corr=data.corr() \n",
    "sns.heatmap(corr,xticklabels=corr.columns,yticklabels=corr.columns) "
   ]
  },
  {
   "cell_type": "code",
   "execution_count": 22,
   "id": "20d0db18",
   "metadata": {},
   "outputs": [
    {
     "data": {
      "text/plain": [
       "<seaborn.axisgrid.PairGrid at 0x2248120c940>"
      ]
     },
     "execution_count": 22,
     "metadata": {},
     "output_type": "execute_result"
    },
    {
     "data": {
      "image/png": "[encoded data removed]",
      "text/plain": [
       "<Figure size 1080x1080 with 42 Axes>"
      ]
     },
     "metadata": {},
     "output_type": "display_data"
    }
   ],
   "source": [
    "sns.set_style(\"whitegrid\")\n",
    "sns.pairplot(data) "
   ]
  },
  {
   "cell_type": "code",
   "execution_count": 23,
   "id": "c895a6c7",
   "metadata": {},
   "outputs": [
    {
     "data": {
      "text/html": [
       "<div>\n",
       "<style scoped>\n",
       "    .dataframe tbody tr th:only-of-type {\n",
       "        vertical-align: middle;\n",
       "    }\n",
       "\n",
       "    .dataframe tbody tr th {\n",
       "        vertical-align: top;\n",
       "    }\n",
       "\n",
       "    .dataframe thead th {\n",
       "        text-align: right;\n",
       "    }\n",
       "</style>\n",
       "<table border=\"1\" class=\"dataframe\">\n",
       "  <thead>\n",
       "    <tr style=\"text-align: right;\">\n",
       "      <th></th>\n",
       "      <th>count</th>\n",
       "      <th>mean</th>\n",
       "      <th>std</th>\n",
       "      <th>min</th>\n",
       "      <th>25%</th>\n",
       "      <th>50%</th>\n",
       "      <th>75%</th>\n",
       "      <th>max</th>\n",
       "    </tr>\n",
       "    <tr>\n",
       "      <th>mood</th>\n",
       "      <th></th>\n",
       "      <th></th>\n",
       "      <th></th>\n",
       "      <th></th>\n",
       "      <th></th>\n",
       "      <th></th>\n",
       "      <th></th>\n",
       "      <th></th>\n",
       "    </tr>\n",
       "  </thead>\n",
       "  <tbody>\n",
       "    <tr>\n",
       "      <th>100</th>\n",
       "      <td>29.0</td>\n",
       "      <td>2103.068966</td>\n",
       "      <td>2057.012361</td>\n",
       "      <td>25.0</td>\n",
       "      <td>299.0</td>\n",
       "      <td>1258.0</td>\n",
       "      <td>3721.00</td>\n",
       "      <td>6676.0</td>\n",
       "    </tr>\n",
       "    <tr>\n",
       "      <th>200</th>\n",
       "      <td>27.0</td>\n",
       "      <td>3153.777778</td>\n",
       "      <td>2091.761446</td>\n",
       "      <td>202.0</td>\n",
       "      <td>1339.0</td>\n",
       "      <td>3066.0</td>\n",
       "      <td>4245.50</td>\n",
       "      <td>7102.0</td>\n",
       "    </tr>\n",
       "    <tr>\n",
       "      <th>300</th>\n",
       "      <td>40.0</td>\n",
       "      <td>3392.725000</td>\n",
       "      <td>2115.006540</td>\n",
       "      <td>153.0</td>\n",
       "      <td>1314.5</td>\n",
       "      <td>4048.5</td>\n",
       "      <td>4804.25</td>\n",
       "      <td>7422.0</td>\n",
       "    </tr>\n",
       "  </tbody>\n",
       "</table>\n",
       "</div>"
      ],
      "text/plain": [
       "      count         mean          std    min     25%     50%      75%     max\n",
       "mood                                                                         \n",
       "100    29.0  2103.068966  2057.012361   25.0   299.0  1258.0  3721.00  6676.0\n",
       "200    27.0  3153.777778  2091.761446  202.0  1339.0  3066.0  4245.50  7102.0\n",
       "300    40.0  3392.725000  2115.006540  153.0  1314.5  4048.5  4804.25  7422.0"
      ]
     },
     "execution_count": 23,
     "metadata": {},
     "output_type": "execute_result"
    }
   ],
   "source": [
    "data['step_count'].groupby(data.mood).describe()"
   ]
  },
  {
   "cell_type": "code",
   "execution_count": 24,
   "id": "bd1e82d3",
   "metadata": {},
   "outputs": [
    {
     "data": {
      "text/plain": [
       "<Figure size 432x360 with 0 Axes>"
      ]
     },
     "execution_count": 24,
     "metadata": {},
     "output_type": "execute_result"
    },
    {
     "data": {
      "image/png": "[encoded data removed]",
      "text/plain": [
       "<Figure size 432x288 with 1 Axes>"
      ]
     },
     "metadata": {},
     "output_type": "display_data"
    },
    {
     "data": {
      "text/plain": [
       "<Figure size 432x360 with 0 Axes>"
      ]
     },
     "metadata": {},
     "output_type": "display_data"
    }
   ],
   "source": [
    "sns.barplot(x=\"mood\",y=\"step_count\",data=data)\n",
    "plt.title('Comparison of step count by mood perception')\n",
    "plt.legend(['100 = Sad', '200 = Neutral', '300 = Happy'], loc='upper left', prop={'size': 7})\n",
    "plt.figure(figsize=(6,5))"
   ]
  },
  {
   "cell_type": "code",
   "execution_count": 25,
   "id": "97654df2",
   "metadata": {},
   "outputs": [
    {
     "data": {
      "text/html": [
       "<div>\n",
       "<style scoped>\n",
       "    .dataframe tbody tr th:only-of-type {\n",
       "        vertical-align: middle;\n",
       "    }\n",
       "\n",
       "    .dataframe tbody tr th {\n",
       "        vertical-align: top;\n",
       "    }\n",
       "\n",
       "    .dataframe thead th {\n",
       "        text-align: right;\n",
       "    }\n",
       "</style>\n",
       "<table border=\"1\" class=\"dataframe\">\n",
       "  <thead>\n",
       "    <tr style=\"text-align: right;\">\n",
       "      <th></th>\n",
       "      <th>count</th>\n",
       "      <th>mean</th>\n",
       "      <th>std</th>\n",
       "      <th>min</th>\n",
       "      <th>25%</th>\n",
       "      <th>50%</th>\n",
       "      <th>75%</th>\n",
       "      <th>max</th>\n",
       "    </tr>\n",
       "    <tr>\n",
       "      <th>bool_of_active</th>\n",
       "      <th></th>\n",
       "      <th></th>\n",
       "      <th></th>\n",
       "      <th></th>\n",
       "      <th></th>\n",
       "      <th></th>\n",
       "      <th></th>\n",
       "      <th></th>\n",
       "    </tr>\n",
       "  </thead>\n",
       "  <tbody>\n",
       "    <tr>\n",
       "      <th>0</th>\n",
       "      <td>54.0</td>\n",
       "      <td>2709.888889</td>\n",
       "      <td>2059.107323</td>\n",
       "      <td>25.0</td>\n",
       "      <td>663.75</td>\n",
       "      <td>2486.5</td>\n",
       "      <td>4411.5</td>\n",
       "      <td>6930.0</td>\n",
       "    </tr>\n",
       "    <tr>\n",
       "      <th>1</th>\n",
       "      <td>42.0</td>\n",
       "      <td>3226.571429</td>\n",
       "      <td>2238.337734</td>\n",
       "      <td>221.0</td>\n",
       "      <td>1037.00</td>\n",
       "      <td>3362.0</td>\n",
       "      <td>4843.0</td>\n",
       "      <td>7422.0</td>\n",
       "    </tr>\n",
       "  </tbody>\n",
       "</table>\n",
       "</div>"
      ],
      "text/plain": [
       "                count         mean          std    min      25%     50%  \\\n",
       "bool_of_active                                                            \n",
       "0                54.0  2709.888889  2059.107323   25.0   663.75  2486.5   \n",
       "1                42.0  3226.571429  2238.337734  221.0  1037.00  3362.0   \n",
       "\n",
       "                   75%     max  \n",
       "bool_of_active                  \n",
       "0               4411.5  6930.0  \n",
       "1               4843.0  7422.0  "
      ]
     },
     "execution_count": 25,
     "metadata": {},
     "output_type": "execute_result"
    }
   ],
   "source": [
    "data.step_count.groupby(data.bool_of_active).describe()"
   ]
  },
  {
   "cell_type": "code",
   "execution_count": 26,
   "id": "0aeabccb",
   "metadata": {},
   "outputs": [
    {
     "data": {
      "text/plain": [
       "<matplotlib.legend.Legend at 0x224839d31c0>"
      ]
     },
     "execution_count": 26,
     "metadata": {},
     "output_type": "execute_result"
    },
    {
     "data": {
      "image/png": "[encoded data removed]",
      "text/plain": [
       "<Figure size 432x288 with 1 Axes>"
      ]
     },
     "metadata": {},
     "output_type": "display_data"
    }
   ],
   "source": [
    "sns.barplot(x='bool_of_active',y=\"step_count\",data=data)\n",
    "plt.legend(['0 = Inactive','500 = Active'])"
   ]
  },
  {
   "cell_type": "code",
   "execution_count": 27,
   "id": "2a92e4a5",
   "metadata": {},
   "outputs": [
    {
     "data": {
      "text/plain": [
       "<pandas.core.groupby.generic.SeriesGroupBy object at 0x00000224839D3580>"
      ]
     },
     "execution_count": 27,
     "metadata": {},
     "output_type": "execute_result"
    }
   ],
   "source": [
    "data.calories_burned.groupby(data.mood)"
   ]
  },
  {
   "cell_type": "code",
   "execution_count": 28,
   "id": "4246f2c1",
   "metadata": {},
   "outputs": [
    {
     "data": {
      "text/plain": [
       "<Figure size 432x360 with 0 Axes>"
      ]
     },
     "execution_count": 28,
     "metadata": {},
     "output_type": "execute_result"
    },
    {
     "data": {
      "image/png": "[encoded data removed]",
      "text/plain": [
       "<Figure size 432x288 with 1 Axes>"
      ]
     },
     "metadata": {},
     "output_type": "display_data"
    },
    {
     "data": {
      "text/plain": [
       "<Figure size 432x360 with 0 Axes>"
      ]
     },
     "metadata": {},
     "output_type": "display_data"
    }
   ],
   "source": [
    "sns.barplot(x = \"mood\", y=\"calories_burned\", data = data)\n",
    "plt.legend(['100 = Sad', '200 = Neutral', '300 = Happy'], loc='upper left', prop={'size': 7})\n",
    "plt.figure(figsize=(6,5))"
   ]
  },
  {
   "cell_type": "code",
   "execution_count": 29,
   "id": "12182460",
   "metadata": {},
   "outputs": [
    {
     "data": {
      "text/html": [
       "<div>\n",
       "<style scoped>\n",
       "    .dataframe tbody tr th:only-of-type {\n",
       "        vertical-align: middle;\n",
       "    }\n",
       "\n",
       "    .dataframe tbody tr th {\n",
       "        vertical-align: top;\n",
       "    }\n",
       "\n",
       "    .dataframe thead th {\n",
       "        text-align: right;\n",
       "    }\n",
       "</style>\n",
       "<table border=\"1\" class=\"dataframe\">\n",
       "  <thead>\n",
       "    <tr style=\"text-align: right;\">\n",
       "      <th></th>\n",
       "      <th>count</th>\n",
       "      <th>mean</th>\n",
       "      <th>std</th>\n",
       "      <th>min</th>\n",
       "      <th>25%</th>\n",
       "      <th>50%</th>\n",
       "      <th>75%</th>\n",
       "      <th>max</th>\n",
       "    </tr>\n",
       "    <tr>\n",
       "      <th>bool_of_active</th>\n",
       "      <th></th>\n",
       "      <th></th>\n",
       "      <th></th>\n",
       "      <th></th>\n",
       "      <th></th>\n",
       "      <th></th>\n",
       "      <th></th>\n",
       "      <th></th>\n",
       "    </tr>\n",
       "  </thead>\n",
       "  <tbody>\n",
       "    <tr>\n",
       "      <th>0</th>\n",
       "      <td>54.0</td>\n",
       "      <td>86.481481</td>\n",
       "      <td>68.694495</td>\n",
       "      <td>0.0</td>\n",
       "      <td>17.25</td>\n",
       "      <td>80.0</td>\n",
       "      <td>144.5</td>\n",
       "      <td>234.0</td>\n",
       "    </tr>\n",
       "    <tr>\n",
       "      <th>1</th>\n",
       "      <td>42.0</td>\n",
       "      <td>102.404762</td>\n",
       "      <td>75.053821</td>\n",
       "      <td>0.0</td>\n",
       "      <td>25.25</td>\n",
       "      <td>108.5</td>\n",
       "      <td>156.0</td>\n",
       "      <td>243.0</td>\n",
       "    </tr>\n",
       "  </tbody>\n",
       "</table>\n",
       "</div>"
      ],
      "text/plain": [
       "                count        mean        std  min    25%    50%    75%    max\n",
       "bool_of_active                                                               \n",
       "0                54.0   86.481481  68.694495  0.0  17.25   80.0  144.5  234.0\n",
       "1                42.0  102.404762  75.053821  0.0  25.25  108.5  156.0  243.0"
      ]
     },
     "execution_count": 29,
     "metadata": {},
     "output_type": "execute_result"
    }
   ],
   "source": [
    "data.calories_burned.groupby(data.bool_of_active).describe()"
   ]
  },
  {
   "cell_type": "code",
   "execution_count": 30,
   "id": "1a1e9a35",
   "metadata": {},
   "outputs": [
    {
     "data": {
      "text/plain": [
       "<Figure size 432x360 with 0 Axes>"
      ]
     },
     "execution_count": 30,
     "metadata": {},
     "output_type": "execute_result"
    },
    {
     "data": {
      "image/png": "[encoded data removed]",
      "text/plain": [
       "<Figure size 432x288 with 1 Axes>"
      ]
     },
     "metadata": {},
     "output_type": "display_data"
    },
    {
     "data": {
      "text/plain": [
       "<Figure size 432x360 with 0 Axes>"
      ]
     },
     "metadata": {},
     "output_type": "display_data"
    }
   ],
   "source": [
    "sns.barplot(x = \"bool_of_active\", y=\"calories_burned\", data = data)\n",
    "plt.title('Graph 1. Comparison of calories expended by self-perceived activity')\n",
    "plt.legend(['0 = Inactive', '500 = Active'], loc='upper left', prop={'size': 7})\n",
    "plt.figure(figsize=(6,5))"
   ]
  },
  {
   "cell_type": "code",
   "execution_count": 31,
   "id": "b38768b3",
   "metadata": {},
   "outputs": [
    {
     "data": {
      "text/html": [
       "<div>\n",
       "<style scoped>\n",
       "    .dataframe tbody tr th:only-of-type {\n",
       "        vertical-align: middle;\n",
       "    }\n",
       "\n",
       "    .dataframe tbody tr th {\n",
       "        vertical-align: top;\n",
       "    }\n",
       "\n",
       "    .dataframe thead th {\n",
       "        text-align: right;\n",
       "    }\n",
       "</style>\n",
       "<table border=\"1\" class=\"dataframe\">\n",
       "  <thead>\n",
       "    <tr style=\"text-align: right;\">\n",
       "      <th></th>\n",
       "      <th>count</th>\n",
       "      <th>mean</th>\n",
       "      <th>std</th>\n",
       "      <th>min</th>\n",
       "      <th>25%</th>\n",
       "      <th>50%</th>\n",
       "      <th>75%</th>\n",
       "      <th>max</th>\n",
       "    </tr>\n",
       "    <tr>\n",
       "      <th>mood</th>\n",
       "      <th></th>\n",
       "      <th></th>\n",
       "      <th></th>\n",
       "      <th></th>\n",
       "      <th></th>\n",
       "      <th></th>\n",
       "      <th></th>\n",
       "      <th></th>\n",
       "    </tr>\n",
       "  </thead>\n",
       "  <tbody>\n",
       "    <tr>\n",
       "      <th>100</th>\n",
       "      <td>29.0</td>\n",
       "      <td>5.034483</td>\n",
       "      <td>1.614284</td>\n",
       "      <td>2.0</td>\n",
       "      <td>4.0</td>\n",
       "      <td>5.0</td>\n",
       "      <td>6.00</td>\n",
       "      <td>8.0</td>\n",
       "    </tr>\n",
       "    <tr>\n",
       "      <th>200</th>\n",
       "      <td>27.0</td>\n",
       "      <td>4.666667</td>\n",
       "      <td>1.240347</td>\n",
       "      <td>2.0</td>\n",
       "      <td>4.0</td>\n",
       "      <td>5.0</td>\n",
       "      <td>5.00</td>\n",
       "      <td>8.0</td>\n",
       "    </tr>\n",
       "    <tr>\n",
       "      <th>300</th>\n",
       "      <td>40.0</td>\n",
       "      <td>5.725000</td>\n",
       "      <td>1.484752</td>\n",
       "      <td>2.0</td>\n",
       "      <td>5.0</td>\n",
       "      <td>5.5</td>\n",
       "      <td>6.25</td>\n",
       "      <td>9.0</td>\n",
       "    </tr>\n",
       "  </tbody>\n",
       "</table>\n",
       "</div>"
      ],
      "text/plain": [
       "      count      mean       std  min  25%  50%   75%  max\n",
       "mood                                                     \n",
       "100    29.0  5.034483  1.614284  2.0  4.0  5.0  6.00  8.0\n",
       "200    27.0  4.666667  1.240347  2.0  4.0  5.0  5.00  8.0\n",
       "300    40.0  5.725000  1.484752  2.0  5.0  5.5  6.25  9.0"
      ]
     },
     "execution_count": 31,
     "metadata": {},
     "output_type": "execute_result"
    }
   ],
   "source": [
    "data.hours_of_sleep.groupby(data.mood).describe()"
   ]
  },
  {
   "cell_type": "code",
   "execution_count": 32,
   "id": "fde0fb6f",
   "metadata": {},
   "outputs": [
    {
     "data": {
      "text/plain": [
       "<Figure size 432x360 with 0 Axes>"
      ]
     },
     "execution_count": 32,
     "metadata": {},
     "output_type": "execute_result"
    },
    {
     "data": {
      "image/png": "[encoded data removed]",
      "text/plain": [
       "<Figure size 432x288 with 1 Axes>"
      ]
     },
     "metadata": {},
     "output_type": "display_data"
    },
    {
     "data": {
      "text/plain": [
       "<Figure size 432x360 with 0 Axes>"
      ]
     },
     "metadata": {},
     "output_type": "display_data"
    }
   ],
   "source": [
    "sns.barplot(x = \"mood\", y=\"hours_of_sleep\", data = data)\n",
    "plt.title('Graph 1. Comparison of hours of sleep by mood perception')\n",
    "plt.legend(['100 = Sad', '200 = Neutral', '300 = Happy'], loc='upper left', prop={'size': 7})\n",
    "plt.figure(figsize=(6,5))"
   ]
  },
  {
   "cell_type": "code",
   "execution_count": 33,
   "id": "ec85d8e2",
   "metadata": {},
   "outputs": [
    {
     "data": {
      "text/html": [
       "<div>\n",
       "<style scoped>\n",
       "    .dataframe tbody tr th:only-of-type {\n",
       "        vertical-align: middle;\n",
       "    }\n",
       "\n",
       "    .dataframe tbody tr th {\n",
       "        vertical-align: top;\n",
       "    }\n",
       "\n",
       "    .dataframe thead th {\n",
       "        text-align: right;\n",
       "    }\n",
       "</style>\n",
       "<table border=\"1\" class=\"dataframe\">\n",
       "  <thead>\n",
       "    <tr style=\"text-align: right;\">\n",
       "      <th></th>\n",
       "      <th>count</th>\n",
       "      <th>mean</th>\n",
       "      <th>std</th>\n",
       "      <th>min</th>\n",
       "      <th>25%</th>\n",
       "      <th>50%</th>\n",
       "      <th>75%</th>\n",
       "      <th>max</th>\n",
       "    </tr>\n",
       "    <tr>\n",
       "      <th>bool_of_active</th>\n",
       "      <th></th>\n",
       "      <th></th>\n",
       "      <th></th>\n",
       "      <th></th>\n",
       "      <th></th>\n",
       "      <th></th>\n",
       "      <th></th>\n",
       "      <th></th>\n",
       "    </tr>\n",
       "  </thead>\n",
       "  <tbody>\n",
       "    <tr>\n",
       "      <th>0</th>\n",
       "      <td>54.0</td>\n",
       "      <td>5.037037</td>\n",
       "      <td>1.613188</td>\n",
       "      <td>2.0</td>\n",
       "      <td>4.0</td>\n",
       "      <td>5.0</td>\n",
       "      <td>6.0</td>\n",
       "      <td>9.0</td>\n",
       "    </tr>\n",
       "    <tr>\n",
       "      <th>1</th>\n",
       "      <td>42.0</td>\n",
       "      <td>5.452381</td>\n",
       "      <td>1.365112</td>\n",
       "      <td>3.0</td>\n",
       "      <td>5.0</td>\n",
       "      <td>5.0</td>\n",
       "      <td>6.0</td>\n",
       "      <td>8.0</td>\n",
       "    </tr>\n",
       "  </tbody>\n",
       "</table>\n",
       "</div>"
      ],
      "text/plain": [
       "                count      mean       std  min  25%  50%  75%  max\n",
       "bool_of_active                                                    \n",
       "0                54.0  5.037037  1.613188  2.0  4.0  5.0  6.0  9.0\n",
       "1                42.0  5.452381  1.365112  3.0  5.0  5.0  6.0  8.0"
      ]
     },
     "execution_count": 33,
     "metadata": {},
     "output_type": "execute_result"
    }
   ],
   "source": [
    "data.hours_of_sleep.groupby(data.bool_of_active).describe()"
   ]
  },
  {
   "cell_type": "code",
   "execution_count": 34,
   "id": "5d9a2260",
   "metadata": {},
   "outputs": [
    {
     "data": {
      "text/plain": [
       "<Figure size 432x360 with 0 Axes>"
      ]
     },
     "execution_count": 34,
     "metadata": {},
     "output_type": "execute_result"
    },
    {
     "data": {
      "image/png": "[encoded data removed]",
      "text/plain": [
       "<Figure size 432x288 with 1 Axes>"
      ]
     },
     "metadata": {},
     "output_type": "display_data"
    },
    {
     "data": {
      "text/plain": [
       "<Figure size 432x360 with 0 Axes>"
      ]
     },
     "metadata": {},
     "output_type": "display_data"
    }
   ],
   "source": [
    "sns.barplot(x = \"bool_of_active\", y=\"hours_of_sleep\", data = data)\n",
    "plt.title('Graph 1. Comparison of hours of sleep by self-perceived activity')\n",
    "plt.legend(['0 = Inative', '500 = Active'], loc='upper left', prop={'size': 7})\n",
    "plt.figure(figsize=(6,5))"
   ]
  },
  {
   "cell_type": "code",
   "execution_count": 35,
   "id": "c81a0aac",
   "metadata": {},
   "outputs": [
    {
     "data": {
      "text/html": [
       "<div>\n",
       "<style scoped>\n",
       "    .dataframe tbody tr th:only-of-type {\n",
       "        vertical-align: middle;\n",
       "    }\n",
       "\n",
       "    .dataframe tbody tr th {\n",
       "        vertical-align: top;\n",
       "    }\n",
       "\n",
       "    .dataframe thead th {\n",
       "        text-align: right;\n",
       "    }\n",
       "</style>\n",
       "<table border=\"1\" class=\"dataframe\">\n",
       "  <thead>\n",
       "    <tr style=\"text-align: right;\">\n",
       "      <th>mood</th>\n",
       "      <th>100</th>\n",
       "      <th>200</th>\n",
       "      <th>300</th>\n",
       "    </tr>\n",
       "    <tr>\n",
       "      <th>bool_of_active</th>\n",
       "      <th></th>\n",
       "      <th></th>\n",
       "      <th></th>\n",
       "    </tr>\n",
       "  </thead>\n",
       "  <tbody>\n",
       "    <tr>\n",
       "      <th>0</th>\n",
       "      <td>46.296296</td>\n",
       "      <td>24.074074</td>\n",
       "      <td>29.629630</td>\n",
       "    </tr>\n",
       "    <tr>\n",
       "      <th>1</th>\n",
       "      <td>9.523810</td>\n",
       "      <td>33.333333</td>\n",
       "      <td>57.142857</td>\n",
       "    </tr>\n",
       "    <tr>\n",
       "      <th>All</th>\n",
       "      <td>30.208333</td>\n",
       "      <td>28.125000</td>\n",
       "      <td>41.666667</td>\n",
       "    </tr>\n",
       "  </tbody>\n",
       "</table>\n",
       "</div>"
      ],
      "text/plain": [
       "mood                  100        200        300\n",
       "bool_of_active                                 \n",
       "0               46.296296  24.074074  29.629630\n",
       "1                9.523810  33.333333  57.142857\n",
       "All             30.208333  28.125000  41.666667"
      ]
     },
     "execution_count": 35,
     "metadata": {},
     "output_type": "execute_result"
    }
   ],
   "source": [
    "pd.crosstab([data. bool_of_active], [data.mood], normalize='index', margins=True)*100"
   ]
  },
  {
   "cell_type": "code",
   "execution_count": 36,
   "id": "75be4f1d",
   "metadata": {},
   "outputs": [
    {
     "data": {
      "text/plain": [
       "<Figure size 432x360 with 0 Axes>"
      ]
     },
     "execution_count": 36,
     "metadata": {},
     "output_type": "execute_result"
    },
    {
     "data": {
      "image/png": "[encoded data removed]",
      "text/plain": [
       "<Figure size 432x288 with 1 Axes>"
      ]
     },
     "metadata": {},
     "output_type": "display_data"
    },
    {
     "data": {
      "text/plain": [
       "<Figure size 432x360 with 0 Axes>"
      ]
     },
     "metadata": {},
     "output_type": "display_data"
    }
   ],
   "source": [
    "sns.barplot(x = \"bool_of_active\", y=\"mood\", data = data)\n",
    "plt.title('Graph 1. Comparison of mood by self-perceived activity')\n",
    "plt.legend(['0 = Inative', '500 = Active'], loc='upper left', prop={'size': 7})\n",
    "plt.figure(figsize=(6,5))"
   ]
  },
  {
   "cell_type": "code",
   "execution_count": 37,
   "id": "33f3605b",
   "metadata": {},
   "outputs": [
    {
     "data": {
      "text/plain": [
       "<AxesSubplot:>"
      ]
     },
     "execution_count": 37,
     "metadata": {},
     "output_type": "execute_result"
    },
    {
     "data": {
      "image/png": "[encoded data removed]",
      "text/plain": [
       "<Figure size 432x288 with 1 Axes>"
      ]
     },
     "metadata": {},
     "output_type": "display_data"
    }
   ],
   "source": [
    "data.boxplot(column=\"step_count\")"
   ]
  },
  {
   "cell_type": "code",
   "execution_count": 38,
   "id": "1792db51",
   "metadata": {},
   "outputs": [
    {
     "data": {
      "text/plain": [
       "<AxesSubplot:>"
      ]
     },
     "execution_count": 38,
     "metadata": {},
     "output_type": "execute_result"
    },
    {
     "data": {
      "image/png": "[encoded data removed]",
      "text/plain": [
       "<Figure size 432x288 with 1 Axes>"
      ]
     },
     "metadata": {},
     "output_type": "display_data"
    }
   ],
   "source": [
    "data.boxplot(column=\"calories_burned\") "
   ]
  },
  {
   "cell_type": "code",
   "execution_count": 39,
   "id": "23911716",
   "metadata": {},
   "outputs": [
    {
     "data": {
      "text/html": [
       "<div>\n",
       "<style scoped>\n",
       "    .dataframe tbody tr th:only-of-type {\n",
       "        vertical-align: middle;\n",
       "    }\n",
       "\n",
       "    .dataframe tbody tr th {\n",
       "        vertical-align: top;\n",
       "    }\n",
       "\n",
       "    .dataframe thead th {\n",
       "        text-align: right;\n",
       "    }\n",
       "</style>\n",
       "<table border=\"1\" class=\"dataframe\">\n",
       "  <thead>\n",
       "    <tr style=\"text-align: right;\">\n",
       "      <th></th>\n",
       "      <th>date</th>\n",
       "      <th>step_count</th>\n",
       "      <th>mood</th>\n",
       "      <th>calories_burned</th>\n",
       "      <th>hours_of_sleep</th>\n",
       "      <th>bool_of_active</th>\n",
       "      <th>weight_kg</th>\n",
       "    </tr>\n",
       "  </thead>\n",
       "  <tbody>\n",
       "    <tr>\n",
       "      <th>0</th>\n",
       "      <td>2017-10-06</td>\n",
       "      <td>5464</td>\n",
       "      <td>200</td>\n",
       "      <td>181</td>\n",
       "      <td>5</td>\n",
       "      <td>0</td>\n",
       "      <td>66</td>\n",
       "    </tr>\n",
       "    <tr>\n",
       "      <th>1</th>\n",
       "      <td>2017-10-07</td>\n",
       "      <td>6041</td>\n",
       "      <td>100</td>\n",
       "      <td>197</td>\n",
       "      <td>8</td>\n",
       "      <td>0</td>\n",
       "      <td>66</td>\n",
       "    </tr>\n",
       "    <tr>\n",
       "      <th>2</th>\n",
       "      <td>2017-10-08</td>\n",
       "      <td>25</td>\n",
       "      <td>100</td>\n",
       "      <td>0</td>\n",
       "      <td>5</td>\n",
       "      <td>0</td>\n",
       "      <td>66</td>\n",
       "    </tr>\n",
       "    <tr>\n",
       "      <th>3</th>\n",
       "      <td>2017-10-09</td>\n",
       "      <td>5461</td>\n",
       "      <td>100</td>\n",
       "      <td>174</td>\n",
       "      <td>4</td>\n",
       "      <td>0</td>\n",
       "      <td>66</td>\n",
       "    </tr>\n",
       "    <tr>\n",
       "      <th>4</th>\n",
       "      <td>2017-10-10</td>\n",
       "      <td>6915</td>\n",
       "      <td>200</td>\n",
       "      <td>223</td>\n",
       "      <td>5</td>\n",
       "      <td>1</td>\n",
       "      <td>66</td>\n",
       "    </tr>\n",
       "    <tr>\n",
       "      <th>...</th>\n",
       "      <td>...</td>\n",
       "      <td>...</td>\n",
       "      <td>...</td>\n",
       "      <td>...</td>\n",
       "      <td>...</td>\n",
       "      <td>...</td>\n",
       "      <td>...</td>\n",
       "    </tr>\n",
       "    <tr>\n",
       "      <th>91</th>\n",
       "      <td>2018-01-05</td>\n",
       "      <td>133</td>\n",
       "      <td>100</td>\n",
       "      <td>4</td>\n",
       "      <td>2</td>\n",
       "      <td>0</td>\n",
       "      <td>64</td>\n",
       "    </tr>\n",
       "    <tr>\n",
       "      <th>92</th>\n",
       "      <td>2018-01-06</td>\n",
       "      <td>153</td>\n",
       "      <td>300</td>\n",
       "      <td>0</td>\n",
       "      <td>8</td>\n",
       "      <td>0</td>\n",
       "      <td>64</td>\n",
       "    </tr>\n",
       "    <tr>\n",
       "      <th>93</th>\n",
       "      <td>2018-01-07</td>\n",
       "      <td>500</td>\n",
       "      <td>200</td>\n",
       "      <td>0</td>\n",
       "      <td>5</td>\n",
       "      <td>1</td>\n",
       "      <td>64</td>\n",
       "    </tr>\n",
       "    <tr>\n",
       "      <th>94</th>\n",
       "      <td>2018-01-08</td>\n",
       "      <td>2127</td>\n",
       "      <td>200</td>\n",
       "      <td>0</td>\n",
       "      <td>5</td>\n",
       "      <td>0</td>\n",
       "      <td>64</td>\n",
       "    </tr>\n",
       "    <tr>\n",
       "      <th>95</th>\n",
       "      <td>2018-01-09</td>\n",
       "      <td>2203</td>\n",
       "      <td>300</td>\n",
       "      <td>0</td>\n",
       "      <td>5</td>\n",
       "      <td>1</td>\n",
       "      <td>64</td>\n",
       "    </tr>\n",
       "  </tbody>\n",
       "</table>\n",
       "<p>96 rows × 7 columns</p>\n",
       "</div>"
      ],
      "text/plain": [
       "          date  step_count  mood  calories_burned  hours_of_sleep  \\\n",
       "0   2017-10-06        5464   200              181               5   \n",
       "1   2017-10-07        6041   100              197               8   \n",
       "2   2017-10-08          25   100                0               5   \n",
       "3   2017-10-09        5461   100              174               4   \n",
       "4   2017-10-10        6915   200              223               5   \n",
       "..         ...         ...   ...              ...             ...   \n",
       "91  2018-01-05         133   100                4               2   \n",
       "92  2018-01-06         153   300                0               8   \n",
       "93  2018-01-07         500   200                0               5   \n",
       "94  2018-01-08        2127   200                0               5   \n",
       "95  2018-01-09        2203   300                0               5   \n",
       "\n",
       "    bool_of_active  weight_kg  \n",
       "0                0         66  \n",
       "1                0         66  \n",
       "2                0         66  \n",
       "3                0         66  \n",
       "4                1         66  \n",
       "..             ...        ...  \n",
       "91               0         64  \n",
       "92               0         64  \n",
       "93               1         64  \n",
       "94               0         64  \n",
       "95               1         64  \n",
       "\n",
       "[96 rows x 7 columns]"
      ]
     },
     "execution_count": 39,
     "metadata": {},
     "output_type": "execute_result"
    }
   ],
   "source": [
    "from sklearn.preprocessing import LabelEncoder\n",
    "le=LabelEncoder()\n",
    "data['bool_of_active']=le.fit_transform(data['bool_of_active'])\n",
    "data"
   ]
  },
  {
   "cell_type": "code",
   "execution_count": 40,
   "id": "db3bbb8b",
   "metadata": {},
   "outputs": [],
   "source": [
    "x=pd.DataFrame(data.iloc[:,[1,2,3,4,6]])\n",
    "y=pd.DataFrame(data.iloc[:,5])"
   ]
  },
  {
   "cell_type": "code",
   "execution_count": 41,
   "id": "9a5b3025",
   "metadata": {},
   "outputs": [
    {
     "name": "stderr",
     "output_type": "stream",
     "text": [
      "C:\\Users\\ANEESH~1\\AppData\\Local\\Temp/ipykernel_13384/1325429823.py:6: DeprecationWarning: `np.str` is a deprecated alias for the builtin `str`. To silence this warning, use `str` by itself. Doing this will not modify any behavior and is safe. If you specifically wanted the numpy scalar type, use `np.str_` here.\n",
      "Deprecated in NumPy 1.20; for more details and guidance: https://numpy.org/devdocs/release/1.20.0-notes.html#deprecations\n",
      "  x = pd.DataFrame(columnTransformer.fit_transform(x),dtype = np.str,columns=['sad','neutral','happy','step_count','calories_burned','hours_of_sleep','weight_kg'])\n"
     ]
    },
    {
     "data": {
      "text/html": [
       "<div>\n",
       "<style scoped>\n",
       "    .dataframe tbody tr th:only-of-type {\n",
       "        vertical-align: middle;\n",
       "    }\n",
       "\n",
       "    .dataframe tbody tr th {\n",
       "        vertical-align: top;\n",
       "    }\n",
       "\n",
       "    .dataframe thead th {\n",
       "        text-align: right;\n",
       "    }\n",
       "</style>\n",
       "<table border=\"1\" class=\"dataframe\">\n",
       "  <thead>\n",
       "    <tr style=\"text-align: right;\">\n",
       "      <th></th>\n",
       "      <th>sad</th>\n",
       "      <th>neutral</th>\n",
       "      <th>happy</th>\n",
       "      <th>step_count</th>\n",
       "      <th>calories_burned</th>\n",
       "      <th>hours_of_sleep</th>\n",
       "      <th>weight_kg</th>\n",
       "    </tr>\n",
       "  </thead>\n",
       "  <tbody>\n",
       "    <tr>\n",
       "      <th>0</th>\n",
       "      <td>0.0</td>\n",
       "      <td>1.0</td>\n",
       "      <td>0.0</td>\n",
       "      <td>5464.0</td>\n",
       "      <td>181.0</td>\n",
       "      <td>5.0</td>\n",
       "      <td>66.0</td>\n",
       "    </tr>\n",
       "    <tr>\n",
       "      <th>1</th>\n",
       "      <td>1.0</td>\n",
       "      <td>0.0</td>\n",
       "      <td>0.0</td>\n",
       "      <td>6041.0</td>\n",
       "      <td>197.0</td>\n",
       "      <td>8.0</td>\n",
       "      <td>66.0</td>\n",
       "    </tr>\n",
       "    <tr>\n",
       "      <th>2</th>\n",
       "      <td>1.0</td>\n",
       "      <td>0.0</td>\n",
       "      <td>0.0</td>\n",
       "      <td>25.0</td>\n",
       "      <td>0.0</td>\n",
       "      <td>5.0</td>\n",
       "      <td>66.0</td>\n",
       "    </tr>\n",
       "    <tr>\n",
       "      <th>3</th>\n",
       "      <td>1.0</td>\n",
       "      <td>0.0</td>\n",
       "      <td>0.0</td>\n",
       "      <td>5461.0</td>\n",
       "      <td>174.0</td>\n",
       "      <td>4.0</td>\n",
       "      <td>66.0</td>\n",
       "    </tr>\n",
       "    <tr>\n",
       "      <th>4</th>\n",
       "      <td>0.0</td>\n",
       "      <td>1.0</td>\n",
       "      <td>0.0</td>\n",
       "      <td>6915.0</td>\n",
       "      <td>223.0</td>\n",
       "      <td>5.0</td>\n",
       "      <td>66.0</td>\n",
       "    </tr>\n",
       "    <tr>\n",
       "      <th>...</th>\n",
       "      <td>...</td>\n",
       "      <td>...</td>\n",
       "      <td>...</td>\n",
       "      <td>...</td>\n",
       "      <td>...</td>\n",
       "      <td>...</td>\n",
       "      <td>...</td>\n",
       "    </tr>\n",
       "    <tr>\n",
       "      <th>91</th>\n",
       "      <td>1.0</td>\n",
       "      <td>0.0</td>\n",
       "      <td>0.0</td>\n",
       "      <td>133.0</td>\n",
       "      <td>4.0</td>\n",
       "      <td>2.0</td>\n",
       "      <td>64.0</td>\n",
       "    </tr>\n",
       "    <tr>\n",
       "      <th>92</th>\n",
       "      <td>0.0</td>\n",
       "      <td>0.0</td>\n",
       "      <td>1.0</td>\n",
       "      <td>153.0</td>\n",
       "      <td>0.0</td>\n",
       "      <td>8.0</td>\n",
       "      <td>64.0</td>\n",
       "    </tr>\n",
       "    <tr>\n",
       "      <th>93</th>\n",
       "      <td>0.0</td>\n",
       "      <td>1.0</td>\n",
       "      <td>0.0</td>\n",
       "      <td>500.0</td>\n",
       "      <td>0.0</td>\n",
       "      <td>5.0</td>\n",
       "      <td>64.0</td>\n",
       "    </tr>\n",
       "    <tr>\n",
       "      <th>94</th>\n",
       "      <td>0.0</td>\n",
       "      <td>1.0</td>\n",
       "      <td>0.0</td>\n",
       "      <td>2127.0</td>\n",
       "      <td>0.0</td>\n",
       "      <td>5.0</td>\n",
       "      <td>64.0</td>\n",
       "    </tr>\n",
       "    <tr>\n",
       "      <th>95</th>\n",
       "      <td>0.0</td>\n",
       "      <td>0.0</td>\n",
       "      <td>1.0</td>\n",
       "      <td>2203.0</td>\n",
       "      <td>0.0</td>\n",
       "      <td>5.0</td>\n",
       "      <td>64.0</td>\n",
       "    </tr>\n",
       "  </tbody>\n",
       "</table>\n",
       "<p>96 rows × 7 columns</p>\n",
       "</div>"
      ],
      "text/plain": [
       "    sad neutral happy step_count calories_burned hours_of_sleep weight_kg\n",
       "0   0.0     1.0   0.0     5464.0           181.0            5.0      66.0\n",
       "1   1.0     0.0   0.0     6041.0           197.0            8.0      66.0\n",
       "2   1.0     0.0   0.0       25.0             0.0            5.0      66.0\n",
       "3   1.0     0.0   0.0     5461.0           174.0            4.0      66.0\n",
       "4   0.0     1.0   0.0     6915.0           223.0            5.0      66.0\n",
       "..  ...     ...   ...        ...             ...            ...       ...\n",
       "91  1.0     0.0   0.0      133.0             4.0            2.0      64.0\n",
       "92  0.0     0.0   1.0      153.0             0.0            8.0      64.0\n",
       "93  0.0     1.0   0.0      500.0             0.0            5.0      64.0\n",
       "94  0.0     1.0   0.0     2127.0             0.0            5.0      64.0\n",
       "95  0.0     0.0   1.0     2203.0             0.0            5.0      64.0\n",
       "\n",
       "[96 rows x 7 columns]"
      ]
     },
     "execution_count": 41,
     "metadata": {},
     "output_type": "execute_result"
    }
   ],
   "source": [
    "columnTransformer = ColumnTransformer([('encoder', \n",
    "                                        OneHotEncoder(), \n",
    "                                        [1])], \n",
    "                                      remainder='passthrough') \n",
    "  \n",
    "x = pd.DataFrame(columnTransformer.fit_transform(x),dtype = np.str,columns=['sad','neutral','happy','step_count','calories_burned','hours_of_sleep','weight_kg'])\n",
    "x"
   ]
  },
  {
   "cell_type": "code",
   "execution_count": 42,
   "id": "36f8c820",
   "metadata": {},
   "outputs": [],
   "source": [
    "import pickle\n",
    "with open('encoder.pickle', 'wb') as f:\n",
    "    pickle.dump(columnTransformer, f)"
   ]
  },
  {
   "cell_type": "code",
   "execution_count": 43,
   "id": "942015d7",
   "metadata": {},
   "outputs": [
    {
     "data": {
      "text/plain": [
       "(96, 7)"
      ]
     },
     "execution_count": 43,
     "metadata": {},
     "output_type": "execute_result"
    }
   ],
   "source": [
    "x.shape"
   ]
  },
  {
   "cell_type": "code",
   "execution_count": 44,
   "id": "fdb2c1cd",
   "metadata": {},
   "outputs": [],
   "source": [
    "from sklearn import model_selection, neighbors\n",
    "from sklearn.model_selection import train_test_split\n",
    "x_train, x_test, y_train, y_test = train_test_split(x,y,test_size=0.1,random_state=0)"
   ]
  },
  {
   "cell_type": "code",
   "execution_count": 45,
   "id": "2d895a39",
   "metadata": {},
   "outputs": [
    {
     "data": {
      "text/plain": [
       "DecisionTreeClassifier(max_depth=12)"
      ]
     },
     "execution_count": 45,
     "metadata": {},
     "output_type": "execute_result"
    }
   ],
   "source": [
    "from sklearn.tree import DecisionTreeClassifier\n",
    "dtc = DecisionTreeClassifier(max_depth=12)  \n",
    "dtc.fit(x_train,y_train)"
   ]
  },
  {
   "cell_type": "code",
   "execution_count": 46,
   "id": "38f134ba",
   "metadata": {},
   "outputs": [
    {
     "data": {
      "text/plain": [
       "array([1], dtype=int64)"
      ]
     },
     "execution_count": 46,
     "metadata": {},
     "output_type": "execute_result"
    }
   ],
   "source": [
    "dt_y_train=dtc.predict([['0.0', '0.0', '1.0', '4435.0', '141.0', '5.0', '64.0']])\n",
    "dt_y_train"
   ]
  },
  {
   "cell_type": "code",
   "execution_count": 47,
   "id": "08ab1db9",
   "metadata": {},
   "outputs": [
    {
     "data": {
      "text/plain": [
       "0.9883720930232558"
      ]
     },
     "execution_count": 47,
     "metadata": {},
     "output_type": "execute_result"
    }
   ],
   "source": [
    "dtc.score(x_train,y_train)"
   ]
  },
  {
   "cell_type": "code",
   "execution_count": 48,
   "id": "ae603ab6",
   "metadata": {},
   "outputs": [],
   "source": [
    "import pickle\n",
    "pickle.dump(dtc, open('fitness.pkl','wb'))"
   ]
  },
  {
   "cell_type": "code",
   "execution_count": 49,
   "id": "58b263c2",
   "metadata": {},
   "outputs": [],
   "source": [
    "enc=pickle.load(open(\"encoder.pickle\",'rb'))"
   ]
  },
  {
   "cell_type": "code",
   "execution_count": 50,
   "id": "1e44f579",
   "metadata": {},
   "outputs": [],
   "source": [
    "model=pickle.load(open(\"fitness.pkl\",\"rb\"))"
   ]
  },
  {
   "cell_type": "code",
   "execution_count": null,
   "id": "6c1373e1",
   "metadata": {},
   "outputs": [],
   "source": []
  },
  {
   "cell_type": "code",
   "execution_count": null,
   "id": "0c0e24c0",
   "metadata": {},
   "outputs": [],
   "source": []
  },
  {
   "cell_type": "code",
   "execution_count": null,
   "id": "06dfc4f7",
   "metadata": {},
   "outputs": [],
   "source": []
  }
 ],
 "metadata": {
  "kernelspec": {
   "display_name": "Python 3 (ipykernel)",
   "language": "python",
   "name": "python3"
  },
  "language_info": {
   "codemirror_mode": {
    "name": "ipython",
    "version": 3
   },
   "file_extension": ".py",
   "mimetype": "text/x-python",
   "name": "python",
   "nbconvert_exporter": "python",
   "pygments_lexer": "ipython3",
   "version": "3.9.7"
  }
 },
 "nbformat": 4,
 "nbformat_minor": 5
}
